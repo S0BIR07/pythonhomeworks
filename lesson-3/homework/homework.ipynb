{
 "cells": [
  {
   "cell_type": "markdown",
   "metadata": {},
   "source": [
    "# List Tasks"
   ]
  },
  {
   "cell_type": "code",
   "execution_count": null,
   "metadata": {},
   "outputs": [],
   "source": [
    "#1\n",
    "l=[1,3,4,5,3,5,4,3,6]\n",
    "element=3\n",
    "l.count(element)"
   ]
  },
  {
   "cell_type": "code",
   "execution_count": null,
   "metadata": {},
   "outputs": [],
   "source": [
    "#2\n",
    "sum(l)"
   ]
  },
  {
   "cell_type": "code",
   "execution_count": null,
   "metadata": {},
   "outputs": [],
   "source": [
    "#3\n",
    "max(l)"
   ]
  },
  {
   "cell_type": "code",
   "execution_count": null,
   "metadata": {},
   "outputs": [],
   "source": [
    "#4\n",
    "min(l)"
   ]
  },
  {
   "cell_type": "code",
   "execution_count": null,
   "metadata": {},
   "outputs": [],
   "source": [
    "#5\n",
    "el=2\n",
    "el in l"
   ]
  },
  {
   "cell_type": "code",
   "execution_count": null,
   "metadata": {},
   "outputs": [],
   "source": [
    "#6\n",
    "if(l):\n",
    "    print(l[0])\n",
    "else:\n",
    "  print(\"List is empty\")\n"
   ]
  },
  {
   "cell_type": "code",
   "execution_count": null,
   "metadata": {},
   "outputs": [],
   "source": [
    "\n",
    "#7\n",
    "if(l):\n",
    "    print(l[-1])\n",
    "else:\n",
    "  print(\"List is empty\")"
   ]
  },
  {
   "cell_type": "code",
   "execution_count": null,
   "metadata": {},
   "outputs": [],
   "source": [
    "#8\n",
    "li=l[0:3]\n",
    "print(li)"
   ]
  },
  {
   "cell_type": "code",
   "execution_count": null,
   "metadata": {},
   "outputs": [],
   "source": [
    "#9\n",
    "reversed_l = list(reversed(l))\n",
    "print(reversed_l)"
   ]
  },
  {
   "cell_type": "code",
   "execution_count": null,
   "metadata": {},
   "outputs": [],
   "source": [
    "#10\n",
    "sorted_l=sorted(l)\n",
    "print(sorted_l)"
   ]
  },
  {
   "cell_type": "code",
   "execution_count": null,
   "metadata": {},
   "outputs": [],
   "source": [
    "#11\n",
    "unique_list = list(set(l))\n",
    "print(unique_list)"
   ]
  },
  {
   "cell_type": "code",
   "execution_count": null,
   "metadata": {},
   "outputs": [],
   "source": [
    "#12\n",
    "l.insert(0,el)\n",
    "print(l)"
   ]
  },
  {
   "cell_type": "code",
   "execution_count": null,
   "metadata": {},
   "outputs": [],
   "source": [
    "#13\n",
    "l.index(element)"
   ]
  },
  {
   "cell_type": "code",
   "execution_count": null,
   "metadata": {},
   "outputs": [],
   "source": [
    "#14\n",
    "l==[]"
   ]
  },
  {
   "cell_type": "code",
   "execution_count": null,
   "metadata": {},
   "outputs": [],
   "source": [
    "#15\n",
    "lst=[0,1,2,3,4,5,6,7,8,9]\n",
    "even=0\n",
    "for num in lst:\n",
    "    if num % 2 == 0:\n",
    "        even += 1\n",
    "print(even)"
   ]
  },
  {
   "cell_type": "code",
   "execution_count": null,
   "metadata": {},
   "outputs": [],
   "source": [
    "#16\n",
    "odd=0\n",
    "for nums in lst:\n",
    "    if nums % 2 == 1:\n",
    "        odd += 1\n",
    "print(odd)"
   ]
  },
  {
   "cell_type": "code",
   "execution_count": null,
   "metadata": {},
   "outputs": [],
   "source": [
    "#17\n",
    "lst1=[11,12,13,14,15]\n",
    "lst.extend(lst1)\n",
    "print(lst)\n",
    "lst_new=lst+lst1\n",
    "print(lst_new)"
   ]
  },
  {
   "cell_type": "code",
   "execution_count": null,
   "metadata": {},
   "outputs": [],
   "source": [
    "#18\n",
    "lst=[0,1,2,3,4,5,6,7,8,9]\n",
    "sub_lst=[3,4,5]\n",
    "sub_lst in lst"
   ]
  },
  {
   "cell_type": "code",
   "execution_count": null,
   "metadata": {},
   "outputs": [],
   "source": [
    "#19\n",
    "for i in range(len(lst)):\n",
    "    if(lst[i]==el):\n",
    "        lst[i]=element\n",
    "print(lst)"
   ]
  },
  {
   "cell_type": "code",
   "execution_count": null,
   "metadata": {},
   "outputs": [],
   "source": [
    "#20\n",
    "lst=[0,1,2,3,4,5,6,7,8,9]\n",
    "lst.remove(max(lst))\n",
    "second_largest=max(lst)\n",
    "print(second_largest)"
   ]
  },
  {
   "cell_type": "code",
   "execution_count": null,
   "metadata": {},
   "outputs": [],
   "source": [
    "#21\n",
    "lst.remove(min(lst))\n",
    "second_largest=min(lst)\n",
    "print(second_largest)"
   ]
  },
  {
   "cell_type": "code",
   "execution_count": null,
   "metadata": {},
   "outputs": [],
   "source": [
    "#22\n",
    "lst=[0,1,2,3,4,5,6,7,8,9]\n",
    "even_numbers = lst\n",
    "for num in even_numbers:\n",
    "    if(num%2==1):\n",
    "        even_numbers.remove(num)\n",
    "print(even_numbers)"
   ]
  },
  {
   "cell_type": "code",
   "execution_count": null,
   "metadata": {},
   "outputs": [],
   "source": [
    "#23\n",
    "lst=[0,1,2,3,4,5,6,7,8,9]\n",
    "odd_numbers = lst.copy()\n",
    "for num in odd_numbers:\n",
    "    if(num%2==0):\n",
    "        odd_numbers.remove(num)\n",
    "print(odd_numbers)"
   ]
  },
  {
   "cell_type": "code",
   "execution_count": null,
   "metadata": {},
   "outputs": [],
   "source": [
    "#24\n",
    "list_length = len(lst)\n",
    "print(list_length)"
   ]
  },
  {
   "cell_type": "code",
   "execution_count": null,
   "metadata": {},
   "outputs": [],
   "source": [
    "#25\n",
    "list_copy=lst.copy()\n",
    "print(list_copy)"
   ]
  },
  {
   "cell_type": "code",
   "execution_count": null,
   "metadata": {},
   "outputs": [],
   "source": [
    "#26\n",
    "if(len(lst)%2==1):\n",
    "    print(lst[int((len(lst)+1)/2)])\n",
    "else:\n",
    "    print(lst[int(len(lst)/2-1)],\" \", lst[int(len(lst)/2)])"
   ]
  },
  {
   "cell_type": "code",
   "execution_count": null,
   "metadata": {},
   "outputs": [],
   "source": [
    "#27\n",
    "start = 1\n",
    "end = 6\n",
    "max_of_sublist = max(lst[start:end+1])\n",
    "print(max_of_sublist)"
   ]
  },
  {
   "cell_type": "code",
   "execution_count": null,
   "metadata": {},
   "outputs": [],
   "source": [
    "#28\n",
    "min_of_sublist = min(lst[start:end+1])\n",
    "print(min_of_sublist)"
   ]
  },
  {
   "cell_type": "code",
   "execution_count": null,
   "metadata": {},
   "outputs": [],
   "source": [
    "#29\n",
    "index=5\n",
    "lst.remove(lst[index])\n",
    "lst"
   ]
  },
  {
   "cell_type": "code",
   "execution_count": null,
   "metadata": {},
   "outputs": [],
   "source": [
    "#30\n",
    "lst=[0,1,2,3,4,5,6,7,8,9]\n",
    "lst==lst.sort()"
   ]
  },
  {
   "cell_type": "code",
   "execution_count": null,
   "metadata": {},
   "outputs": [],
   "source": [
    "\n",
    "#31\n",
    "number = 2\n",
    "repeated_list = []\n",
    "for num in lst:\n",
    "    for i in range(number):\n",
    "        repeated_list.append(num)\n",
    "print(repeated_list)"
   ]
  },
  {
   "cell_type": "code",
   "execution_count": null,
   "metadata": {},
   "outputs": [],
   "source": [
    "#32\n",
    "merged_list = lst\n",
    "merged_list.extend(sorted(lst1))\n",
    "print(merged_list)"
   ]
  },
  {
   "cell_type": "code",
   "execution_count": null,
   "metadata": {},
   "outputs": [],
   "source": [
    "#33\n",
    "for j in range(len(lst)):\n",
    "    if(lst[j]==element):\n",
    "        print(j)"
   ]
  },
  {
   "cell_type": "code",
   "execution_count": null,
   "metadata": {},
   "outputs": [],
   "source": [
    "#34\n",
    "rotated_list = [lst[-1]]\n",
    "for k in range(len(lst)-1):\n",
    "    rotated_list.append(lst[k])\n",
    "rotated_list"
   ]
  },
  {
   "cell_type": "code",
   "execution_count": null,
   "metadata": {},
   "outputs": [],
   "source": [
    "#35\n",
    "range_list = []\n",
    "for num in range(start,end+1):\n",
    "    range_list.append(num)\n",
    "range_list\n"
   ]
  },
  {
   "cell_type": "code",
   "execution_count": null,
   "metadata": {},
   "outputs": [],
   "source": [
    "#36\n",
    "sum_of_positive=0\n",
    "for num in lst:\n",
    "    if(num>0):\n",
    "        sum_of_positive+=num\n",
    "sum_of_positive"
   ]
  },
  {
   "cell_type": "code",
   "execution_count": null,
   "metadata": {},
   "outputs": [],
   "source": [
    "#37\n",
    "sum_of_negative=0\n",
    "for num in lst:\n",
    "    if(num<0):\n",
    "        sum_of_negative+=num\n",
    "sum_of_negative"
   ]
  },
  {
   "cell_type": "code",
   "execution_count": null,
   "metadata": {},
   "outputs": [],
   "source": [
    "#38\n",
    "lst == lst.reverse()"
   ]
  },
  {
   "cell_type": "code",
   "execution_count": null,
   "metadata": {},
   "outputs": [],
   "source": [
    "#39\n",
    "sublist1 = lst[:number]\n",
    "sublist2 = lst[number:]"
   ]
  },
  {
   "cell_type": "code",
   "execution_count": null,
   "metadata": {},
   "outputs": [],
   "source": [
    "#40\n",
    "unique_list_inorder = []\n",
    "uniq = list(set(lst))\n",
    "for a in uniq:\n",
    "    if(lst.count(a)==1):\n",
    "        unique_list_inorder.append(a)\n",
    "unique_list_inorder"
   ]
  },
  {
   "cell_type": "markdown",
   "metadata": {},
   "source": [
    "# Tuple Tasks"
   ]
  },
  {
   "cell_type": "code",
   "execution_count": null,
   "metadata": {},
   "outputs": [],
   "source": [
    "#1\n",
    "tple = (3,2,5,6,4,3,2,1,6,7,8)\n",
    "t_element = 6\n",
    "tple.count(t_element)"
   ]
  },
  {
   "cell_type": "code",
   "execution_count": null,
   "metadata": {},
   "outputs": [],
   "source": [
    "#2\n",
    "max_element = max(tple)\n",
    "print(max_element)"
   ]
  },
  {
   "cell_type": "code",
   "execution_count": null,
   "metadata": {},
   "outputs": [],
   "source": [
    "#3\n",
    "min_element = min(tple)\n",
    "print(min_element)"
   ]
  },
  {
   "cell_type": "code",
   "execution_count": null,
   "metadata": {},
   "outputs": [],
   "source": [
    "#4\n",
    "t_element in tple"
   ]
  },
  {
   "cell_type": "code",
   "execution_count": null,
   "metadata": {},
   "outputs": [],
   "source": [
    "#5\n",
    "if(tple!=()):\n",
    "    print(tple[0])\n",
    "else:\n",
    "    print(\"empty\")"
   ]
  },
  {
   "cell_type": "code",
   "execution_count": null,
   "metadata": {},
   "outputs": [],
   "source": [
    "#6\n",
    "if(tple!=()):\n",
    "    print(tple[-1])\n",
    "else:\n",
    "    print(\"empty\")"
   ]
  },
  {
   "cell_type": "code",
   "execution_count": null,
   "metadata": {},
   "outputs": [],
   "source": [
    "#7\n",
    "tuple_length = len(tple)\n",
    "print(tuple_length)"
   ]
  },
  {
   "cell_type": "code",
   "execution_count": null,
   "metadata": {},
   "outputs": [],
   "source": [
    "#8\n",
    "slice_tuple = tple[:3]\n",
    "print(slice_tuple)"
   ]
  },
  {
   "cell_type": "code",
   "execution_count": null,
   "metadata": {},
   "outputs": [],
   "source": [
    "#9\n",
    "tple2 = (6,7,7,2,3,4,1,6)\n",
    "new_tuple = tple+tple2\n",
    "print(new_tuple)"
   ]
  },
  {
   "cell_type": "code",
   "execution_count": null,
   "metadata": {},
   "outputs": [],
   "source": [
    "#10\n",
    "tple != ()"
   ]
  },
  {
   "cell_type": "code",
   "execution_count": null,
   "metadata": {},
   "outputs": [],
   "source": [
    "#11\n",
    "for i in range(len(tple)):\n",
    "    if(tple[i]==t_element):\n",
    "        print(i)"
   ]
  },
  {
   "cell_type": "code",
   "execution_count": null,
   "metadata": {},
   "outputs": [],
   "source": [
    "#12\n",
    "tuple_to_list = list(set(tple))\n",
    "tuple_to_list.sort()\n",
    "print(tuple_to_list[-2])"
   ]
  },
  {
   "cell_type": "code",
   "execution_count": null,
   "metadata": {},
   "outputs": [],
   "source": [
    "#13\n",
    "print(sorted(list(set(tple)))[1])"
   ]
  },
  {
   "cell_type": "code",
   "execution_count": null,
   "metadata": {},
   "outputs": [],
   "source": [
    "#14\n",
    "single_tuple = (t_element)\n",
    "print(single_tuple)"
   ]
  },
  {
   "cell_type": "code",
   "execution_count": null,
   "metadata": {},
   "outputs": [],
   "source": [
    "#15\n",
    "list_to_tuple = tuple(lst)\n",
    "print(list_to_tuple)"
   ]
  },
  {
   "cell_type": "code",
   "execution_count": null,
   "metadata": {},
   "outputs": [],
   "source": [
    "#16\n",
    "tple==tuple(sorted(list(set(tple))))\n",
    "print(tple)"
   ]
  },
  {
   "cell_type": "code",
   "execution_count": null,
   "metadata": {},
   "outputs": [],
   "source": [
    "#17\n",
    "max(list(tple)[start:end+1])"
   ]
  },
  {
   "cell_type": "code",
   "execution_count": null,
   "metadata": {},
   "outputs": [],
   "source": [
    "#18\n",
    "min(list(tple)[start:end+1])"
   ]
  },
  {
   "cell_type": "code",
   "execution_count": null,
   "metadata": {},
   "outputs": [],
   "source": [
    "#19\n",
    "remove_tuple = list(tple)\n",
    "remove_tuple.remove(t_element)\n",
    "remove_tuple=tuple(remove_tuple)"
   ]
  },
  {
   "cell_type": "code",
   "execution_count": null,
   "metadata": {},
   "outputs": [],
   "source": [
    "#20\n",
    "subtuple1 = tuple(list(tple)[:index])\n",
    "subtuple2 = tuple(list(tple)[index:])"
   ]
  },
  {
   "cell_type": "code",
   "execution_count": null,
   "metadata": {},
   "outputs": [],
   "source": [
    "#21\n",
    "repeated_tuple = []\n",
    "number=2\n",
    "for num in tple:\n",
    "    for i in range(number):\n",
    "        repeated_tuple.append(num)\n",
    "repeated_tuple = tuple(repeated_tuple)\n",
    "print(repeated_tuple)"
   ]
  },
  {
   "cell_type": "code",
   "execution_count": null,
   "metadata": {},
   "outputs": [],
   "source": [
    "#22\n",
    "range_tuple = []\n",
    "number2 = 10\n",
    "for i in range(number2):\n",
    "    range_tuple.append(i+1)\n",
    "range_tuple = tuple(range_tuple)\n",
    "print(range_tuple)"
   ]
  },
  {
   "cell_type": "code",
   "execution_count": null,
   "metadata": {},
   "outputs": [],
   "source": [
    "#23\n",
    "reversed_tuple = reversed(list(tple))\n",
    "reversed_tuple = tuple(reversed_tuple)\n",
    "print(reversed_tuple)"
   ]
  },
  {
   "cell_type": "code",
   "execution_count": null,
   "metadata": {},
   "outputs": [],
   "source": [
    "#24\n",
    "tple==reversed_tuple"
   ]
  },
  {
   "cell_type": "code",
   "execution_count": null,
   "metadata": {},
   "outputs": [],
   "source": [
    "#25\n",
    "unique_tuple = list(tple)\n",
    "for num in unique_tuple:\n",
    "    if unique_tuple.count(num)>1:\n",
    "        unique_tuple.remove(num)\n",
    "unique_tuple = tuple(unique_tuple)\n",
    "print(unique_tuple)"
   ]
  },
  {
   "cell_type": "markdown",
   "metadata": {},
   "source": [
    "# Set Tasks"
   ]
  },
  {
   "cell_type": "code",
   "execution_count": null,
   "metadata": {},
   "outputs": [],
   "source": [
    "#1\n",
    "set1 = {1,2,3,4,5,6}\n",
    "set2 = {4,5,6,7,8,9}\n",
    "set1|set2"
   ]
  },
  {
   "cell_type": "code",
   "execution_count": null,
   "metadata": {},
   "outputs": [],
   "source": [
    "#2\n",
    "set1&set2"
   ]
  },
  {
   "cell_type": "code",
   "execution_count": null,
   "metadata": {},
   "outputs": [],
   "source": [
    "#3\n",
    "set1-set2"
   ]
  },
  {
   "cell_type": "code",
   "execution_count": null,
   "metadata": {},
   "outputs": [],
   "source": [
    "#4\n",
    "set2 in set1"
   ]
  },
  {
   "cell_type": "code",
   "execution_count": null,
   "metadata": {},
   "outputs": [],
   "source": [
    "#5\n",
    "element = 8\n",
    "element in set1"
   ]
  },
  {
   "cell_type": "code",
   "execution_count": null,
   "metadata": {},
   "outputs": [],
   "source": [
    "#6\n",
    "len(set1)"
   ]
  },
  {
   "cell_type": "code",
   "execution_count": null,
   "metadata": {},
   "outputs": [],
   "source": [
    "#7\n",
    "list_set = [1,2,2,3,4,4,5,5,6]\n",
    "set(list_set)"
   ]
  },
  {
   "cell_type": "code",
   "execution_count": null,
   "metadata": {},
   "outputs": [],
   "source": [
    "#8\n",
    "if(element in set1):\n",
    "    set1.remove(element)"
   ]
  },
  {
   "cell_type": "code",
   "execution_count": null,
   "metadata": {},
   "outputs": [],
   "source": [
    "#9\n",
    "set3 = {4,1,2,7,8,0,5,7,2,1,5}\n",
    "empty_set = set3.clear()"
   ]
  },
  {
   "cell_type": "code",
   "execution_count": null,
   "metadata": {},
   "outputs": [],
   "source": [
    "#10\n",
    "set1 != {}"
   ]
  },
  {
   "cell_type": "code",
   "execution_count": null,
   "metadata": {},
   "outputs": [],
   "source": [
    "#11\n",
    "(set1|set2)-(set1&set2)"
   ]
  },
  {
   "cell_type": "code",
   "execution_count": null,
   "metadata": {},
   "outputs": [],
   "source": [
    "#12\n",
    "set1.add(element)"
   ]
  },
  {
   "cell_type": "code",
   "execution_count": null,
   "metadata": {},
   "outputs": [],
   "source": [
    "#13\n",
    "set1.pop()"
   ]
  },
  {
   "cell_type": "code",
   "execution_count": null,
   "metadata": {},
   "outputs": [],
   "source": [
    "#14\n",
    "max(set1)"
   ]
  },
  {
   "cell_type": "code",
   "execution_count": null,
   "metadata": {},
   "outputs": [],
   "source": [
    "#15\n",
    "min(set1)"
   ]
  },
  {
   "cell_type": "code",
   "execution_count": null,
   "metadata": {},
   "outputs": [],
   "source": [
    "#16\n",
    "even_set = list(set1)\n",
    "for num in even_set:\n",
    "    if(num%2==1):\n",
    "        even_set.remove(num)\n",
    "even_set = set(even_set)\n",
    "print(even_set)"
   ]
  },
  {
   "cell_type": "code",
   "execution_count": null,
   "metadata": {},
   "outputs": [],
   "source": [
    "#17\n",
    "odd_set = set1-even_set\n",
    "print(odd_set)"
   ]
  },
  {
   "cell_type": "code",
   "execution_count": null,
   "metadata": {},
   "outputs": [],
   "source": [
    "#18\n",
    "range_set = []\n",
    "for k in range(10):\n",
    "    range_set.append(k+1)\n",
    "range_set = set(range_set)\n",
    "print(range_set)"
   ]
  },
  {
   "cell_type": "code",
   "execution_count": null,
   "metadata": {},
   "outputs": [],
   "source": [
    "#19\n",
    "set1^set2"
   ]
  },
  {
   "cell_type": "code",
   "execution_count": null,
   "metadata": {},
   "outputs": [],
   "source": [
    "#20\n",
    "set1&set2=={}"
   ]
  },
  {
   "cell_type": "code",
   "execution_count": null,
   "metadata": {},
   "outputs": [],
   "source": [
    "#21\n",
    "list_to_set = [1,1,2,2,3,4,5]\n",
    "list(set(list_to_set))"
   ]
  },
  {
   "cell_type": "code",
   "execution_count": null,
   "metadata": {},
   "outputs": [],
   "source": [
    "#22\n",
    "len(set(list_to_set))"
   ]
  },
  {
   "cell_type": "code",
   "execution_count": null,
   "metadata": {},
   "outputs": [],
   "source": [
    "#23\n",
    "import random\n",
    "random_set = []\n",
    "while(len(set(random_set))<6):\n",
    "    rand = random.randint(1,10)\n",
    "    random_set.append(rand)\n",
    "set(random_set)"
   ]
  },
  {
   "cell_type": "markdown",
   "metadata": {},
   "source": [
    "# Dictionary Tasks"
   ]
  },
  {
   "cell_type": "code",
   "execution_count": null,
   "metadata": {},
   "outputs": [],
   "source": [
    "#1\n",
    "my_dict = {\n",
    "    \"name\": \"Sobir\",\n",
    "    \"age\": 17,\n",
    "    \"city\": \"Tashkent\",\n",
    "    \"occupation\": \"Programmer\",\n",
    "    \"hobby\": \"Volleyball\",\n",
    "    \"language\": \"Python\"\n",
    "}\n",
    "my_dict[\"age\"]"
   ]
  },
  {
   "cell_type": "code",
   "execution_count": null,
   "metadata": {},
   "outputs": [],
   "source": [
    "#2\n",
    "key = \"city\"\n",
    "key in my_dict"
   ]
  },
  {
   "cell_type": "code",
   "execution_count": null,
   "metadata": {},
   "outputs": [],
   "source": [
    "#3\n",
    "len(my_dict.keys())"
   ]
  },
  {
   "cell_type": "code",
   "execution_count": null,
   "metadata": {},
   "outputs": [],
   "source": [
    "#4\n",
    "keys = my_dict.keys()\n",
    "print(keys)"
   ]
  },
  {
   "cell_type": "code",
   "execution_count": null,
   "metadata": {},
   "outputs": [],
   "source": [
    "#5\n",
    "values = my_dict.values()\n",
    "print(values)"
   ]
  },
  {
   "cell_type": "code",
   "execution_count": null,
   "metadata": {},
   "outputs": [],
   "source": [
    "#6\n",
    "my_dict2 = {\n",
    "    \"favorite_color\": \"Green\",\n",
    "    \"pet\": \"Cat\",\n",
    "    \"favorite_food\": \"Plov\"\n",
    "}\n",
    "merged_dict = my_dict\n",
    "merged_dict.update(my_dict2)\n",
    "merged_dict"
   ]
  },
  {
   "cell_type": "code",
   "execution_count": null,
   "metadata": {},
   "outputs": [],
   "source": [
    "#7\n",
    "my_dict.pop(key)\n",
    "my_dict"
   ]
  },
  {
   "cell_type": "code",
   "execution_count": null,
   "metadata": {},
   "outputs": [],
   "source": [
    "#8\n",
    "my_dict2.clear()"
   ]
  },
  {
   "cell_type": "code",
   "execution_count": null,
   "metadata": {},
   "outputs": [],
   "source": [
    "#9\n",
    "my_dict2 != {}"
   ]
  },
  {
   "cell_type": "code",
   "execution_count": null,
   "metadata": {},
   "outputs": [],
   "source": [
    "#10\n",
    "if key in my_dict:\n",
    "    key_value = {key: my_dict[key]}\n",
    "else:\n",
    "    print(\"Key does not exist\")"
   ]
  },
  {
   "cell_type": "code",
   "execution_count": null,
   "metadata": {},
   "outputs": [],
   "source": [
    "#11\n",
    "new_key = \"age\"\n",
    "new_value = \"111\"\n",
    "my_dict[new_key]= new_value\n",
    "my_dict"
   ]
  },
  {
   "cell_type": "code",
   "execution_count": null,
   "metadata": {},
   "outputs": [],
   "source": [
    "#12\n",
    "my_dict_values = list(my_dict.values())\n",
    "my_dict_values.count(new_value)"
   ]
  },
  {
   "cell_type": "code",
   "execution_count": null,
   "metadata": {},
   "outputs": [],
   "source": [
    "#13\n",
    "swap_list = list(my_dict.items())\n",
    "swap_list.reverse()\n",
    "dict(swap_list)"
   ]
  },
  {
   "cell_type": "code",
   "execution_count": null,
   "metadata": {},
   "outputs": [],
   "source": [
    "#14\n",
    "keys_list = []\n",
    "for d in list(my_dict.keys()):\n",
    "    if my_dict[d]==new_value:\n",
    "        keys_list.append(d)\n",
    "keys_list"
   ]
  },
  {
   "cell_type": "code",
   "execution_count": null,
   "metadata": {},
   "outputs": [],
   "source": [
    "#15\n",
    "new_dict = {}\n",
    "list_keys = [\"apple\",\"banana\",\"cherry\"]\n",
    "list_values = [\"olma\",\"banan\",\"olcha\"]\n",
    "for i in range(len(list_keys)):\n",
    "    new_dict.update({list_keys[i]:list_values[i]})\n",
    "new_dict"
   ]
  },
  {
   "cell_type": "code",
   "execution_count": null,
   "metadata": {},
   "outputs": [],
   "source": [
    "#16\n",
    "values_dict = list(my_dict.values())\n",
    "for v in values_dict:\n",
    "    if type(v)==dict:\n",
    "        print(\"yes\")\n",
    "else:\n",
    "    print(\"no\")"
   ]
  },
  {
   "cell_type": "code",
   "execution_count": null,
   "metadata": {},
   "outputs": [],
   "source": [
    "#17\n",
    "nested_dict = {\"dict1\":{\"nested\":\"value\"},\"dict2\":{\"apple\":\"olma\"}}\n",
    "nest_val = dict(nested_dict[\"dict1\"])\n",
    "val = nest_val[\"nested\"]\n",
    "val"
   ]
  },
  {
   "cell_type": "code",
   "execution_count": null,
   "metadata": {},
   "outputs": [],
   "source": [
    "#18\n",
    "kys=[\"key1\",\"key2\",\"key3\"]\n",
    "default_dict = {}\n",
    "for k in kys:\n",
    "    default_dict.update({k:\"def_value\"})\n",
    "default_dict"
   ]
  },
  {
   "cell_type": "code",
   "execution_count": null,
   "metadata": {},
   "outputs": [],
   "source": [
    "#19\n",
    "uniq_dict = {\"key1\":2,\"key2\":4,\"key3\":1,\"key4\":3,\"key5\":5,\"key6\":4}\n",
    "vl = list(uniq_dict.values())\n",
    "len(set(vl))"
   ]
  },
  {
   "cell_type": "code",
   "execution_count": null,
   "metadata": {},
   "outputs": [],
   "source": [
    "#20\n",
    "dct = {\"bbb\":\"ccc\",\"aaa\":\"bbb\",\"ddd\":\"aaa\",\"ccc\":\"ddd\"}\n",
    "dct_keys = sorted(list(dct.keys()))\n",
    "dct_sort_key = {}\n",
    "for i in range(len(dct_keys)):\n",
    "    dct_sort_key.update({dct_keys[i]:dct[dct_keys[i]]})\n",
    "dct_sort_key"
   ]
  },
  {
   "cell_type": "code",
   "execution_count": null,
   "metadata": {},
   "outputs": [],
   "source": [
    "#21\n",
    "dct_sort_val = dict(sorted(dct.items(), key=lambda item: item[1]))\n",
    "dct_sort_val"
   ]
  },
  {
   "cell_type": "code",
   "execution_count": null,
   "metadata": {},
   "outputs": [],
   "source": [
    "#22\n",
    "dict1 = {\"key1\":2,\"key2\":4,\"key3\":1,\"key4\":3,\"key5\":5,\"key6\":4}\n",
    "new_dict1 = {}\n",
    "for ky in list(dict1.keys()):\n",
    "    if (dict1[ky]>2):\n",
    "        new_dict1.update({ky:dict1[ky]})\n",
    "new_dict1"
   ]
  },
  {
   "cell_type": "code",
   "execution_count": null,
   "metadata": {},
   "outputs": [],
   "source": [
    "#23\n",
    "dct1 = {\"apple\":\"olma\",\"cherry\":\"olcha\",\"kiwi\":\"kivi\"}\n",
    "dct2 = {\"banana\":\"banan\",\"kiwi\":\"kiwi\",\"apricot\":\"olxo'ri\"}\n",
    "for i in list(dct1.keys()):\n",
    "    if i in list(dct2.keys()):\n",
    "        print(\"yes, there is a common key\")\n",
    "        break\n",
    "else:\n",
    "    print(\"no common keys found\")"
   ]
  },
  {
   "cell_type": "code",
   "execution_count": null,
   "metadata": {},
   "outputs": [],
   "source": [
    "#24\n",
    "tuple_to_dict = ([\"key1\",2],[\"key2\",4],[\"key3\",1],[\"key4\",3],[\"key5\",5],[\"key6\",4])\n",
    "tple2dct = {}\n",
    "for pair in tuple_to_dict:\n",
    "    tple2dct.update({pair[0]:pair[1]})\n",
    "tple2dct"
   ]
  },
  {
   "cell_type": "code",
   "execution_count": null,
   "metadata": {},
   "outputs": [],
   "source": [
    "#25\n",
    "dd = {\"key1\":2,\"key2\":4,\"key3\":1,\"key4\":3,\"key5\":5,\"key6\":4}\n",
    "list(dd.items())[0]"
   ]
  }
 ],
 "metadata": {
  "kernelspec": {
   "display_name": "Python 3",
   "language": "python",
   "name": "python3"
  },
  "language_info": {
   "codemirror_mode": {
    "name": "ipython",
    "version": 3
   },
   "file_extension": ".py",
   "mimetype": "text/x-python",
   "name": "python",
   "nbconvert_exporter": "python",
   "pygments_lexer": "ipython3",
   "version": "3.11.9"
  }
 },
 "nbformat": 4,
 "nbformat_minor": 2
}
